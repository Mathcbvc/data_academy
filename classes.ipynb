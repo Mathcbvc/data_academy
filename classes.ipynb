{
 "cells": [
  {
   "cell_type": "code",
   "execution_count": 38,
   "metadata": {},
   "outputs": [],
   "source": [
    "#criando uma classe chamada Livro\n",
    "\n",
    "class Livro():\n",
    "    #Este método vai inicializar cada objeto criado a partir desta classe\n",
    "    #O nome deste método é __init__\n",
    "    # (self) é uma referência a cada atributo da própria classe (e não da classe mãe, por exemplo)\n",
    "    def __init(self, titulo, isbn):\n",
    "        self.titulo = titulo\n",
    "        self.isbn = isbn\n",
    "        print(\"Construtor chamado para criar um objeto desta classe.\")\n",
    "    # Métodos são funções que executam ações nos objetos da classe\n",
    "    def imprime(self):\n",
    "        print(\"Foi criado o livro %s com ISBN %d\" %(self.titulo.upper() , self.isbn))"
   ]
  },
  {
   "cell_type": "code",
   "execution_count": 23,
   "metadata": {},
   "outputs": [],
   "source": [
    "book = Livro()\n",
    "book.titulo = \"Uma vida fora da Terra\"\n",
    "book.isbn = 12567"
   ]
  },
  {
   "cell_type": "code",
   "execution_count": 25,
   "metadata": {},
   "outputs": [
    {
     "name": "stdout",
     "output_type": "stream",
     "text": [
      "Foi criado o livro UMA VIDA FORA DA TERRA com ISBN 12567\n"
     ]
    }
   ],
   "source": [
    "book.imprime()"
   ]
  },
  {
   "cell_type": "code",
   "execution_count": 37,
   "metadata": {},
   "outputs": [
    {
     "data": {
      "text/plain": [
       "True"
      ]
     },
     "execution_count": 37,
     "metadata": {},
     "output_type": "execute_result"
    }
   ],
   "source": [
    "#get / set/ has / del attributes - Manipulaçã de atributos em uma classe \n",
    "\n",
    "#para testar se o objeto possui algum atributo\n",
    "hasattr(book,\"titulo\")"
   ]
  },
  {
   "cell_type": "code",
   "execution_count": 31,
   "metadata": {},
   "outputs": [
    {
     "data": {
      "text/plain": [
       "'Uma vida fora da Terra'"
      ]
     },
     "execution_count": 31,
     "metadata": {},
     "output_type": "execute_result"
    }
   ],
   "source": [
    "#obter o valor do atributo referente ao objeto \n",
    "getattr(book,\"titulo\")"
   ]
  },
  {
   "cell_type": "code",
   "execution_count": 32,
   "metadata": {},
   "outputs": [],
   "source": [
    "#modifica o atributo do objeto em questão\n",
    "setattr(book , \"titulo\", \"Uma Vida Dentro da Lua\")"
   ]
  },
  {
   "cell_type": "code",
   "execution_count": 33,
   "metadata": {},
   "outputs": [
    {
     "data": {
      "text/plain": [
       "'Uma Vida Dentro da Lua'"
      ]
     },
     "execution_count": 33,
     "metadata": {},
     "output_type": "execute_result"
    }
   ],
   "source": [
    "getattr(book, \"titulo\")"
   ]
  },
  {
   "cell_type": "code",
   "execution_count": 34,
   "metadata": {},
   "outputs": [],
   "source": [
    "#deleta o atributo do objeto em questão\n",
    "delattr(book, \"isbn\")"
   ]
  },
  {
   "cell_type": "code",
   "execution_count": 36,
   "metadata": {},
   "outputs": [
    {
     "data": {
      "text/plain": [
       "False"
      ]
     },
     "execution_count": 36,
     "metadata": {},
     "output_type": "execute_result"
    }
   ],
   "source": [
    "#testa se o objeto possui o objeto em questão\n",
    "hasattr(book, \"isbn\")"
   ]
  },
  {
   "cell_type": "code",
   "execution_count": 55,
   "metadata": {},
   "outputs": [],
   "source": [
    "#Construindo uma classe com getters and setters implementados\n",
    "class Circulo(): \n",
    "    #declarando uma constante\n",
    "    PI = 3.14\n",
    "\n",
    "    def __init__(self,raio = 1):\n",
    "        self.raio = raio\n",
    "        self.diam = (raio**2)*Circulo.PI\n",
    "    \n",
    "    def area(self): \n",
    "        return ( self.raio ** 2 ) * Circulo.PI\n",
    "    \n",
    "    def getRaio(self):\n",
    "        return self.raio\n",
    "    \n",
    "    def setRaio(self, novo_raio):\n",
    "        self.raio = novo_raio\n",
    "        self.diam = (novo_raio**2)*Circulo.PI\n"
   ]
  },
  {
   "cell_type": "code",
   "execution_count": 61,
   "metadata": {},
   "outputs": [
    {
     "name": "stdout",
     "output_type": "stream",
     "text": [
      "1\n",
      "5\n"
     ]
    }
   ],
   "source": [
    "circulo = Circulo()\n",
    "print(circulo.raio)\n",
    "circulo.setRaio(5) \n",
    "print(circulo.raio)"
   ]
  },
  {
   "cell_type": "code",
   "execution_count": 116,
   "metadata": {},
   "outputs": [],
   "source": [
    "#Herança e polimorfismo\n",
    "#declaração da Superclasse\n",
    "class Veiculo():\n",
    "    def __init__(self, marca, modelo):\n",
    "        self.marca = marca\n",
    "        self.modelo = modelo\n",
    "\n",
    "    def acelerar(self):\n",
    "        print('Acelerou')\n",
    "\n",
    "    def frear(self):\n",
    "        print(\"Freiou\")"
   ]
  },
  {
   "cell_type": "code",
   "execution_count": 115,
   "metadata": {},
   "outputs": [],
   "source": [
    "#subclasse\n",
    "class Carro(Veiculo):\n",
    "    def acelerar(self):\n",
    "        print(\"O carro acelerou\")\n",
    "\n",
    "    def frear(self):\n",
    "        print(\"O carro freiou\")\n"
   ]
  },
  {
   "cell_type": "code",
   "execution_count": 111,
   "metadata": {},
   "outputs": [],
   "source": [
    "#subclasse \n",
    "class Moto(Veiculo):\n",
    "    def acelerar(self):\n",
    "        print(\"A moto acelerou\")\n",
    "\n",
    "    def frear(self):\n",
    "        print(\"A moto freiou\")"
   ]
  },
  {
   "cell_type": "code",
   "execution_count": 117,
   "metadata": {},
   "outputs": [],
   "source": [
    "class Aviao(Veiculo):\n",
    "    def decolar(self):\n",
    "        print(\"O aviao decolou\")\n",
    "    def pousar(self):\n",
    "        print(\"O aviao pousou\")"
   ]
  },
  {
   "cell_type": "code",
   "execution_count": 121,
   "metadata": {},
   "outputs": [
    {
     "name": "stdout",
     "output_type": "stream",
     "text": [
      "O carro acelerou\n",
      "O carro freiou\n",
      "Acelerou\n",
      "Freiou\n",
      "O aviao decolou\n",
      "O aviao pousou\n",
      "A moto acelerou\n",
      "A moto freiou\n"
     ]
    }
   ],
   "source": [
    "#cria os objetos \n",
    "lista_veiculos = [Carro(\"Porche\",\"911\"),Aviao('Boeing', '668') ,Moto(\"Kawasaki\", 'WU-300')]\n",
    "\n",
    "for item in lista_veiculos:\n",
    "    item.acelerar()\n",
    "    item.frear()\n",
    "\n",
    "    if isinstance(item, Aviao):\n",
    "        item.decolar()\n",
    "        item.pousar()"
   ]
  },
  {
   "attachments": {},
   "cell_type": "markdown",
   "metadata": {},
   "source": [
    "Exercicios\n"
   ]
  }
 ],
 "metadata": {
  "kernelspec": {
   "display_name": "base",
   "language": "python",
   "name": "python3"
  },
  "language_info": {
   "codemirror_mode": {
    "name": "ipython",
    "version": 3
   },
   "file_extension": ".py",
   "mimetype": "text/x-python",
   "name": "python",
   "nbconvert_exporter": "python",
   "pygments_lexer": "ipython3",
   "version": "3.9.16"
  },
  "orig_nbformat": 4
 },
 "nbformat": 4,
 "nbformat_minor": 2
}
